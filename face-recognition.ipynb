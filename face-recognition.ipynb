{
 "cells": [
  {
   "cell_type": "code",
   "execution_count": 1,
   "metadata": {},
   "outputs": [],
   "source": [
    "import pandas as pd\n",
    "import numpy as np\n",
    "import torch as pt\n",
    "import cv2 as cv\n",
    "\n",
    "import torch.nn as nn\n",
    "import torch.nn.functional as F\n",
    "from torchvision.datasets import LFWPairs\n",
    "from torch.utils.data import DataLoader\n",
    "from torchvision import transforms"
   ]
  },
  {
   "cell_type": "code",
   "execution_count": null,
   "metadata": {},
   "outputs": [],
   "source": [
    "training = LFWPairs('./data/train', split='train', download=True, transform=transforms.Compose([\n",
    "    transforms.Resize((220, 220)),\n",
    "    transforms.RandomHorizontalFlip(p=0.3),\n",
    "    transforms.RandomVerticalFlip(p=0.3),\n",
    "    transforms.ToTensor(),\n",
    "    transforms.Normalize(mean=[0.485, 0.456, 0.406],\n",
    "                         std=[0.229, 0.224, 0.225])\n",
    "]))\n",
    "\n",
    "validating = LFWPairs('./data/validate', download=True, transform=transforms.Compose([\n",
    "    transforms.Resize((220, 220)),\n",
    "    transforms.ToTensor(),\n",
    "    transforms.Normalize(mean=[0.485, 0.456, 0.406],\n",
    "                         std=[0.229, 0.224, 0.225])\n",
    "]))\n",
    "\n",
    "testing = LFWPairs('./data/test', split='test', download=True, transform=transforms.Compose([\n",
    "    transforms.Resize((220, 220)),\n",
    "    transforms.ToTensor(),\n",
    "    transforms.Normalize(mean=[0.485, 0.456, 0.406],\n",
    "                         std=[0.229, 0.224, 0.225])\n",
    "]))"
   ]
  },
  {
   "cell_type": "code",
   "execution_count": null,
   "metadata": {},
   "outputs": [],
   "source": [
    "training_set = DataLoader(training, batch_size=64, shuffle=True)\n",
    "validation_set = DataLoader(validating, batch_size=64, shuffle=True)\n",
    "testing_set = DataLoader(testing, batch_size=64, shuffle=True)"
   ]
  },
  {
   "cell_type": "code",
   "execution_count": 8,
   "metadata": {},
   "outputs": [],
   "source": [
    "class ContrastiveLoss(nn.Module): \n",
    "    \n",
    "    def __init__(self, margin=2.0):\n",
    "        super().__init__()\n",
    "        self.margin = margin\n",
    "    \n",
    "    def forward(self, input1, input2, label):\n",
    "        pairwise_dist = F.pairwise_distance(input1, input2)\n",
    "        distance = (1 - label) * torch.pow(pairwise_dist, 2) + \\\n",
    "            (label) * torch.pow(torch.clamp(margin - pairwise_dist, min=0), 2)\n",
    "        return distance\n",
    "        "
   ]
  },
  {
   "cell_type": "code",
   "execution_count": 15,
   "metadata": {},
   "outputs": [],
   "source": [
    "class SiameseNetwork(nn.Module):\n",
    "    \n",
    "    def __init__(self):\n",
    "        super().__init__()\n",
    "        self.distance = ContrastiveLoss()\n",
    "        \n",
    "        self.cnn = nn.Sequential(\n",
    "            nn.Conv2d(3, 64, kernel_size=(7, 7), stride=2, padding=3),\n",
    "            nn.MaxPool2d(kernel_size=(3, 3), stride=2, padding=1),\n",
    "            nn.BatchNorm2d(64),\n",
    "            \n",
    "            nn.Conv2d(64, 64, kernel_size=(1, 1)),\n",
    "            nn.Conv2d(64, 192, kernel_size=(3, 3)),\n",
    "            nn.BatchNorm2d(192),\n",
    "            nn.MaxPool2d(kernel_size=(3, 3), stride=2, padding=4),\n",
    "            \n",
    "            nn.Conv2d(192, 192, kernel_size=(1, 1)),\n",
    "            nn.Conv2d(192, 384, kernel_size=(3, 3)),\n",
    "            nn.MaxPool2d(kernel_size=(3, 3), stride=2, padding=1),\n",
    "            \n",
    "            nn.Conv2d(384, 384, kernel_size=(1, 1)),\n",
    "            nn.Conv2d(384, 256, kernel_size=(3, 3)),\n",
    "            \n",
    "            nn.Conv2d(256, 256, kernel_size=(1, 1)),\n",
    "            nn.Conv2d(256, 256, kernel_size=(3, 3)),\n",
    "            \n",
    "            nn.Conv2d(256, 256, kernel_size=(1, 1)),\n",
    "            nn.Conv2d(256, 256, kernel_size=(3, 3)),\n",
    "            nn.MaxPool2d(kernel_size=(3, 3), stride=2, padding=7)\n",
    "        )\n",
    "        \n",
    "        self.fc1 = nn.Sequential(\n",
    "            nn.Flatten(),\n",
    "            nn.Linear(12544, 4096),\n",
    "            nn.ReLU(inplace=True),\n",
    "            \n",
    "            nn.Linear(4096, 4096),\n",
    "            nn.ReLU(inplace=True),\n",
    "            \n",
    "            nn.Linear(4096, 128),\n",
    "        )\n",
    "        \n",
    "        self.fc2 = nn.Sequential(\n",
    "            nn.Linear(128, 1),\n",
    "            nn.Sigmoid()   \n",
    "        )\n",
    "    \n",
    "    def forward_once(self, img):\n",
    "        return self.fc1(self.cnn(img))\n",
    "    \n",
    "    def get_embeddings(self, img):\n",
    "        return self.forward_once(img)\n",
    "    \n",
    "    def forward(self, img1, img2, label):\n",
    "        out1 = self.forward_once(img1)\n",
    "        out2 = self.forward_once(img2)\n",
    "        dist = self.distance(out1, out2, label)\n",
    "        return self.fc2(dist)"
   ]
  },
  {
   "cell_type": "code",
   "execution_count": null,
   "metadata": {},
   "outputs": [],
   "source": []
  }
 ],
 "metadata": {
  "kernelspec": {
   "display_name": "mlenv",
   "language": "python",
   "name": "python3"
  },
  "language_info": {
   "codemirror_mode": {
    "name": "ipython",
    "version": 3
   },
   "file_extension": ".py",
   "mimetype": "text/x-python",
   "name": "python",
   "nbconvert_exporter": "python",
   "pygments_lexer": "ipython3",
   "version": "3.11.8"
  }
 },
 "nbformat": 4,
 "nbformat_minor": 2
}
