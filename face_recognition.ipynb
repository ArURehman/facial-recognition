{
  "cells": [
    {
      "cell_type": "code",
      "execution_count": 1,
      "metadata": {
        "id": "mY-WdppdsNS7"
      },
      "outputs": [],
      "source": [
        "import pandas as pd\n",
        "import numpy as np\n",
        "import torch as pt\n",
        "import cv2 as cv\n",
        "import matplotlib.pyplot as plt\n",
        "from tqdm import tqdm\n",
        "from os.path import exists\n",
        "\n",
        "import torch\n",
        "import torch.nn as nn\n",
        "import torch.nn.functional as F\n",
        "from torch.optim import Adam\n",
        "from torchvision.datasets import LFWPairs\n",
        "from torch.utils.data import DataLoader\n",
        "from torchvision import transforms"
      ]
    },
    {
      "cell_type": "code",
      "execution_count": 2,
      "metadata": {
        "colab": {
          "base_uri": "https://localhost:8080/"
        },
        "id": "cn5q_cE_sNS_",
        "outputId": "074f4452-17c7-434e-c90e-ef94d64c57ae"
      },
      "outputs": [
        {
          "name": "stdout",
          "output_type": "stream",
          "text": [
            "Downloading http://vis-www.cs.umass.edu/lfw/lfw-funneled.tgz to ./data/train/lfw-py/lfw-funneled.tgz\n"
          ]
        },
        {
          "name": "stderr",
          "output_type": "stream",
          "text": [
            "100%|██████████| 243346528/243346528 [01:39<00:00, 2452696.50it/s]\n"
          ]
        },
        {
          "name": "stdout",
          "output_type": "stream",
          "text": [
            "Extracting ./data/train/lfw-py/lfw-funneled.tgz to ./data/train/lfw-py\n",
            "Downloading http://vis-www.cs.umass.edu/lfw/pairsDevTrain.txt to ./data/train/lfw-py/pairsDevTrain.txt\n"
          ]
        },
        {
          "name": "stderr",
          "output_type": "stream",
          "text": [
            "100%|██████████| 56579/56579 [00:00<00:00, 818681.35it/s]\n"
          ]
        },
        {
          "name": "stdout",
          "output_type": "stream",
          "text": [
            "Downloading http://vis-www.cs.umass.edu/lfw/lfw-funneled.tgz to ./data/validate/lfw-py/lfw-funneled.tgz\n"
          ]
        },
        {
          "name": "stderr",
          "output_type": "stream",
          "text": [
            "100%|██████████| 243346528/243346528 [02:11<00:00, 1845975.39it/s]\n"
          ]
        },
        {
          "name": "stdout",
          "output_type": "stream",
          "text": [
            "Extracting ./data/validate/lfw-py/lfw-funneled.tgz to ./data/validate/lfw-py\n",
            "Downloading http://vis-www.cs.umass.edu/lfw/pairs.txt to ./data/validate/lfw-py/pairs.txt\n"
          ]
        },
        {
          "name": "stderr",
          "output_type": "stream",
          "text": [
            "100%|██████████| 155335/155335 [00:00<00:00, 1090222.16it/s]\n"
          ]
        },
        {
          "name": "stdout",
          "output_type": "stream",
          "text": [
            "Downloading http://vis-www.cs.umass.edu/lfw/lfw-funneled.tgz to ./data/test/lfw-py/lfw-funneled.tgz\n"
          ]
        },
        {
          "name": "stderr",
          "output_type": "stream",
          "text": [
            "100%|██████████| 243346528/243346528 [02:19<00:00, 1739965.78it/s]\n"
          ]
        },
        {
          "name": "stdout",
          "output_type": "stream",
          "text": [
            "Extracting ./data/test/lfw-py/lfw-funneled.tgz to ./data/test/lfw-py\n",
            "Downloading http://vis-www.cs.umass.edu/lfw/pairsDevTest.txt to ./data/test/lfw-py/pairsDevTest.txt\n"
          ]
        },
        {
          "name": "stderr",
          "output_type": "stream",
          "text": [
            "100%|██████████| 26002/26002 [00:00<00:00, 798613.76it/s]\n"
          ]
        }
      ],
      "source": [
        "training = LFWPairs('./data/train', split='train', download=True, transform=transforms.Compose([\n",
        "    transforms.Resize((250, 250)),\n",
        "    transforms.RandomHorizontalFlip(p=0.3),\n",
        "    transforms.RandomVerticalFlip(p=0.3),\n",
        "    transforms.ToTensor(),\n",
        "    transforms.Normalize(mean=[0.485, 0.456, 0.406],\n",
        "                         std=[0.229, 0.224, 0.225])\n",
        "]))\n",
        "\n",
        "validating = LFWPairs('./data/validate', download=True, transform=transforms.Compose([\n",
        "    transforms.Resize((250, 250)),\n",
        "    transforms.ToTensor(),\n",
        "    transforms.Normalize(mean=[0.485, 0.456, 0.406],\n",
        "                         std=[0.229, 0.224, 0.225])\n",
        "]))\n",
        "\n",
        "testing = LFWPairs('./data/test', split='test', download=True, transform=transforms.Compose([\n",
        "    transforms.Resize((250, 250)),\n",
        "    transforms.ToTensor(),\n",
        "    transforms.Normalize(mean=[0.485, 0.456, 0.406],\n",
        "                         std=[0.229, 0.224, 0.225])\n",
        "]))"
      ]
    },
    {
      "cell_type": "code",
      "execution_count": 3,
      "metadata": {
        "id": "cApY81zPsNTA"
      },
      "outputs": [],
      "source": [
        "torch.manual_seed(42)\n",
        "training_set = DataLoader(training, batch_size=16, shuffle=True)\n",
        "validation_set = DataLoader(validating, batch_size=16, shuffle=True)\n",
        "testing_set = DataLoader(testing, batch_size=16, shuffle=True)"
      ]
    },
    {
      "cell_type": "code",
      "execution_count": 41,
      "metadata": {
        "id": "yPMctZyHsNTB"
      },
      "outputs": [],
      "source": [
        "class SiameseNetwork(nn.Module):\n",
        "\n",
        "    def __init__(self):\n",
        "        super().__init__()\n",
        "\n",
        "        self.cnn = nn.Sequential(\n",
        "            nn.Conv2d(3, 64, kernel_size=(7, 7), stride=2),\n",
        "            nn.MaxPool2d(kernel_size=(3, 3), stride=2, padding=1),\n",
        "\n",
        "            nn.Conv2d(64, 64, kernel_size=(1, 1)),\n",
        "            nn.Conv2d(64, 192, kernel_size=(3, 3)),\n",
        "            nn.MaxPool2d(kernel_size=(3, 3), stride=2, padding=1),\n",
        "\n",
        "            nn.Conv2d(192, 192, kernel_size=(1, 1)),\n",
        "            nn.Conv2d(192, 384, kernel_size=(3, 3)),\n",
        "            nn.MaxPool2d(kernel_size=(3, 3), stride=2, padding=1),\n",
        "\n",
        "            nn.Conv2d(384, 384, kernel_size=(1, 1)),\n",
        "            nn.Conv2d(384, 256, kernel_size=(3, 3)),\n",
        "\n",
        "            nn.Conv2d(256, 256, kernel_size=(1, 1)),\n",
        "            nn.Conv2d(256, 256, kernel_size=(3, 3)),\n",
        "\n",
        "            nn.Conv2d(256, 256, kernel_size=(1, 1)),\n",
        "            nn.Conv2d(256, 256, kernel_size=(3, 3)),\n",
        "            nn.MaxPool2d(kernel_size=(3, 3), stride=2, padding=1)\n",
        "        )\n",
        "\n",
        "        self.fc1 = nn.Sequential(\n",
        "            nn.Flatten(),\n",
        "            nn.Linear(4096, 2048),\n",
        "            nn.ReLU(inplace=True),\n",
        "\n",
        "            nn.Linear(2048, 512),\n",
        "            nn.ReLU(inplace=True),\n",
        "\n",
        "            nn.Linear(512, 128),\n",
        "            nn.ReLU(inplace=True),\n",
        "        )\n",
        "\n",
        "        self.distance = nn.PairwiseDistance()\n",
        "        self.fc2 = nn.Sigmoid()\n",
        "\n",
        "    def forward_once(self, img):\n",
        "        return self.fc1(self.cnn(img))\n",
        "\n",
        "    def get_embeddings(self, img):\n",
        "        return self.forward_once(img)\n",
        "\n",
        "    def predict_from_embeddings(self, input1, input2):\n",
        "        return self.fc2(self.distance(input1, input2))\n",
        "\n",
        "    def forward(self, img1, img2):\n",
        "        out1 = self.forward_once(img1)\n",
        "        out2 = self.forward_once(img2)\n",
        "        dist = self.distance(out1, out2)\n",
        "        return self.fc2(dist)"
      ]
    },
    {
      "cell_type": "code",
      "execution_count": 42,
      "metadata": {
        "id": "U7k5XOGvsNTC"
      },
      "outputs": [],
      "source": [
        "class Trainer:\n",
        "\n",
        "    def __init__(self, model, criterion, optim, device):\n",
        "        self.model = model.to(device)\n",
        "        self.criterion = criterion.to(device)\n",
        "        self.optim = optim\n",
        "        self.device = device\n",
        "        self.metrics = {\n",
        "            'train_loss': [],\n",
        "            'train_acc': [],\n",
        "            'valid_loss': [],\n",
        "            'valid_acc': []\n",
        "        }\n",
        "\n",
        "    def _calc_accuracy(self, preds, labels):\n",
        "        total = 0\n",
        "        correct = 0\n",
        "        preds, labels = preds > 0.5, labels.type(torch.BoolTensor)\n",
        "        for i, pred in enumerate(preds):\n",
        "            correct += 1 if pred == labels[i] else 0\n",
        "            total += 1\n",
        "        return correct / total\n",
        "\n",
        "    def _update_metrics(self, loss, accuracy, dataset_type=\"train\"):\n",
        "        self.metrics[f\"{dataset_type}_loss\"].append(loss.item())\n",
        "        self.metrics[f\"{dataset_type}_acc\"].append(accuracy)\n",
        "\n",
        "    def _train(self, dataset):\n",
        "        self.model.train()\n",
        "        for i, (img1, img2, labels) in enumerate(dataset):\n",
        "            img1, img2, labels = img1.to(self.device), img2.to(self.device), labels.type(torch.FloatTensor).to(self.device)\n",
        "            preds = self.model(img1, img2)\n",
        "            loss = self.criterion(preds, labels)\n",
        "\n",
        "            acc = self._calc_accuracy(preds, labels)\n",
        "            self._update_metrics(loss, acc)\n",
        "\n",
        "            loss.backward()\n",
        "            self.optim.step()\n",
        "\n",
        "    @torch.no_grad()\n",
        "    def _valid(self, dataset):\n",
        "        self.model.eval()\n",
        "        for i, (img1, img2, labels) in enumerate(dataset):\n",
        "            img1, img2, labels = img1.to(self.device), img2.to(self.device), labels.type(torch.FloatTensor).to(self.device)\n",
        "            preds = self.model(img1, img2)\n",
        "\n",
        "            loss = self.criterion(preds, labels)\n",
        "            acc = self._calc_accuracy(preds, labels)\n",
        "            self._update_metrics(loss, acc, 'valid')\n",
        "\n",
        "    def plot_metrics(self):\n",
        "        fig, (ax1, ax2) = plt.subplots(2, 1, figsize=(10, 15))\n",
        "\n",
        "        ax1.plot(self.metrics[\"train_loss\"], label='Train Loss')\n",
        "        ax1.plot(self.metrics[\"valid_loss\"], label='Validation Loss') if self.metrics[\"valid_loss\"] else None\n",
        "        ax1.set_xlabel('Epochs')\n",
        "        ax1.set_ylabel('Loss')\n",
        "        ax1.set_title('Loss Curves')\n",
        "        ax1.legend()\n",
        "\n",
        "        ax2.plot(self.metrics[\"train_acc\"], label='Train Accuracy')\n",
        "        ax2.plot(self.metrics[\"valid_acc\"], label='Validation Accuracy') if self.metrics[\"valid_acc\"] else None\n",
        "        ax2.set_xlabel('Epochs')\n",
        "        ax2.set_ylabel('Accuracy')\n",
        "        ax2.set_title('Accuracy Curves')\n",
        "        ax2.legend()\n",
        "\n",
        "        plt.show()\n",
        "\n",
        "    def fit(self, epochs, train_set, valid_set=None, save_every=5):\n",
        "        for epoch in tqdm(range(epochs)):\n",
        "            self._train(train_set)\n",
        "            if epoch % save_every == 0:\n",
        "                torch.save(self.model.state_dict(), f\"checkpoint_{epoch}\")\n",
        "            if valid_set:\n",
        "                self._valid(valid_set)\n",
        "        self.plot_metrics()\n",
        "\n",
        "\n",
        "    @torch.no_grad()\n",
        "    def predict(self, dataset, name=\"Test\"):\n",
        "        self.model.eval()\n",
        "        accuracy = []\n",
        "        for i, (img1, img2, labels) in tqdm(enumerate(dataset)):\n",
        "            img1, img2, labels = img1.to(self.device), img2.to(self.device), labels.type(torch.FloatTensor).to(self.device)\n",
        "            preds = self.model(img1, img2)\n",
        "\n",
        "            accuracy.append(self._calc_accuracy(preds, labels))\n",
        "\n",
        "        total_acc = sum(accuracy) / len(accuracy)\n",
        "        print(f\"{name} Accuracy: {total_acc}\")\n",
        "        return total_acc\n"
      ]
    },
    {
      "cell_type": "code",
      "execution_count": 43,
      "metadata": {
        "id": "rc_QZ4rmsNTD"
      },
      "outputs": [],
      "source": [
        "torch.manual_seed(42)\n",
        "PATH = './model_state.pt'\n",
        "EPOCHS = 7\n",
        "\n",
        "device = 'cuda' if torch.cuda.is_available() else 'cpu'\n",
        "model = SiameseNetwork()\n",
        "criterion = nn.BCELoss()\n",
        "torch.load_state_dict(torch.load(PATH)) if exists(PATH) else None\n",
        "optim = Adam(model.parameters())"
      ]
    },
    {
      "cell_type": "code",
      "execution_count": 44,
      "metadata": {
        "colab": {
          "base_uri": "https://localhost:8080/",
          "height": 1000
        },
        "id": "b6SsjkzssNTD",
        "outputId": "8183fc5e-7d19-4aab-b813-6e8da5014f1e"
      },
      "outputs": [
        {
          "name": "stderr",
          "output_type": "stream",
          "text": [
            "100%|██████████| 7/7 [05:17<00:00, 45.36s/it]\n",
            "WARNING:matplotlib.legend:No artists with labels found to put in legend.  Note that artists whose label start with an underscore are ignored when legend() is called with no argument.\n",
            "WARNING:matplotlib.legend:No artists with labels found to put in legend.  Note that artists whose label start with an underscore are ignored when legend() is called with no argument.\n"
          ]
        },
        {
          "data": {
            "image/png": "[encoded data removed]",
            "text/plain": [
              "<Figure size 1000x1500 with 2 Axes>"
            ]
          },
          "metadata": {},
          "output_type": "display_data"
        }
      ],
      "source": [
        "trainer = Trainer(model, criterion, optim, device)\n",
        "trainer.fit(EPOCHS, training_set, validation_set)"
      ]
    },
    {
      "cell_type": "code",
      "execution_count": 45,
      "metadata": {
        "colab": {
          "base_uri": "https://localhost:8080/"
        },
        "id": "b-16ZILosNTD",
        "outputId": "a5fcb963-958f-483f-de1d-c5a2a1d67ba9"
      },
      "outputs": [
        {
          "name": "stderr",
          "output_type": "stream",
          "text": [
            "138it [00:13, 10.18it/s]\n"
          ]
        },
        {
          "name": "stdout",
          "output_type": "stream",
          "text": [
            "Train Accuracy: 0.5009057971014492\n"
          ]
        },
        {
          "name": "stderr",
          "output_type": "stream",
          "text": [
            "63it [00:05, 11.00it/s]"
          ]
        },
        {
          "name": "stdout",
          "output_type": "stream",
          "text": [
            "Test Accuracy: 0.5009920634920635\n"
          ]
        },
        {
          "name": "stderr",
          "output_type": "stream",
          "text": [
            "\n"
          ]
        },
        {
          "data": {
            "text/plain": [
              "0.5009920634920635"
            ]
          },
          "execution_count": 45,
          "metadata": {},
          "output_type": "execute_result"
        }
      ],
      "source": [
        "train_acc = trainer.predict(training_set, \"Train\")\n",
        "test_acc = trainer.predict(testing_set)"
      ]
    },
    {
      "cell_type": "code",
      "execution_count": null,
      "metadata": {
        "id": "hOMVw9znsNTE"
      },
      "outputs": [],
      "source": [
        "torch.save(model.state_dict(), PATH)"
      ]
    },
    {
      "cell_type": "code",
      "execution_count": null,
      "metadata": {
        "id": "q9vKA9tfyiaV"
      },
      "outputs": [],
      "source": []
    }
  ],
  "metadata": {
    "accelerator": "GPU",
    "colab": {
      "gpuType": "T4",
      "provenance": []
    },
    "kernelspec": {
      "display_name": "Python 3",
      "name": "python3"
    },
    "language_info": {
      "codemirror_mode": {
        "name": "ipython",
        "version": 3
      },
      "file_extension": ".py",
      "mimetype": "text/x-python",
      "name": "python",
      "nbconvert_exporter": "python",
      "pygments_lexer": "ipython3",
      "version": "3.11.8"
    }
  },
  "nbformat": 4,
  "nbformat_minor": 0
}
